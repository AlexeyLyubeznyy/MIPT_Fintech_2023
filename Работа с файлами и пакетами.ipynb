{
 "cells": [
  {
   "cell_type": "markdown",
   "id": "06abdc71",
   "metadata": {},
   "source": [
    "# Задание 1. Работа с файлами и пакетами"
   ]
  },
  {
   "cell_type": "markdown",
   "id": "3f1454df",
   "metadata": {},
   "source": [
    "1. Открываю zip-файл \"purchases_log.zip\" и смотрю все исходные файлы:"
   ]
  },
  {
   "cell_type": "code",
   "execution_count": 57,
   "id": "823da70e",
   "metadata": {},
   "outputs": [
    {
     "name": "stdout",
     "output_type": "stream",
     "text": [
      "/Users/alexeylyubeznyy/Documents/Магистратура/МФТИ/Advanced Python/Задание 1. Работа с файлами и пакетами/Задание 1 ['.ipynb_checkpoints'] ['.DS_Store', 'purchase_log.zip', 'purchases.txt', 'purchase_log.txt', 'Задание 1. Работа с файлами и пакетами.ipynb']\n",
      "/Users/alexeylyubeznyy/Documents/Магистратура/МФТИ/Advanced Python/Задание 1. Работа с файлами и пакетами/Задание 1/.ipynb_checkpoints [] ['Задание 1. Работа с файлами и пакетами-checkpoint.ipynb']\n"
     ]
    }
   ],
   "source": [
    "import os\n",
    "import zipfile\n",
    "import json\n",
    "\n",
    "zipfile=zipfile.ZipFile('purchase_log.zip', mode='r')\n",
    "zipfile.extractall()\n",
    "\n",
    "for root, directory, file in os.walk('/Users/alexeylyubeznyy/Documents/Магистратура/МФТИ/Advanced Python/Задание 1. Работа с файлами и пакетами/Задание 1'):\n",
    "    print(root, directory, file)"
   ]
  },
  {
   "cell_type": "markdown",
   "id": "102010b0",
   "metadata": {},
   "source": [
    "2. В данном случае внутри лежал только один текстовый файл, поэтому сразу беру его для анализа:"
   ]
  },
  {
   "cell_type": "code",
   "execution_count": 58,
   "id": "1f7fccfc",
   "metadata": {},
   "outputs": [
    {
     "name": "stdout",
     "output_type": "stream",
     "text": [
      "{\"user_id\": \"user_id\", \"category\": \"category\"}\n",
      " <class 'str'>\n",
      "{\"category\": \"Продукты\", \"user_id\": \"1840e0b9d4\"}\n",
      " <class 'str'>\n",
      "{\"user_id\": \"4e4f90fcfb\", \"category\": \"Электроника\"}\n",
      " <class 'str'>\n",
      "{\"user_id\": \"afea8d72fc\", \"category\": \"Электроника\"}\n",
      " <class 'str'>\n",
      "{\"user_id\": \"373a6055fe\", \"category\": \"Бытовая техника\"}\n",
      " <class 'str'>\n",
      "{\"user_id\": \"9b2ab046f3\", \"category\": \"Электроника\"}\n",
      " <class 'str'>\n"
     ]
    }
   ],
   "source": [
    "i = 0\n",
    "\n",
    "with open('purchase_log.txt') as file:\n",
    "    for line in file:\n",
    "        print(line, type(line))\n",
    "        i += 1\n",
    "        if i > 5:\n",
    "            break       "
   ]
  },
  {
   "cell_type": "markdown",
   "id": "67a09523",
   "metadata": {},
   "source": [
    "3. Внутри каждая строка имеет класс \"строка\", хотя и представлена в виде словарей.\n",
    "Кроме того, мы видим, что в первой строке указан заголовок, - от него избавимся в процессе."
   ]
  },
  {
   "cell_type": "code",
   "execution_count": 59,
   "id": "0909b450",
   "metadata": {},
   "outputs": [],
   "source": [
    "# создаем конечный словарь purchases, в который будем записывать данные\n",
    "purchases = dict()\n",
    "\n",
    "# построчно читаем текстовый файл, переводим строку в словарь.\n",
    "# после этого формируем новый словарь по заданному условию, но без заголовка из старого словаря\n",
    "with open('purchase_log.txt') as file:\n",
    "    for line in file:\n",
    "        line = line.strip()\n",
    "        dict_ = json.loads(line)\n",
    "        \n",
    "        if 'user_id' not in dict_['user_id']:\n",
    "            purchases[dict_['user_id']] = dict_['category']"
   ]
  },
  {
   "cell_type": "markdown",
   "id": "b04add8b",
   "metadata": {},
   "source": [
    "4. Проверяем, что получилось в итоговом словаре:"
   ]
  },
  {
   "cell_type": "code",
   "execution_count": 60,
   "id": "e851cf4e",
   "metadata": {},
   "outputs": [
    {
     "name": "stdout",
     "output_type": "stream",
     "text": [
      "1840e0b9d4 Продукты\n",
      "4e4f90fcfb Электроника\n",
      "afea8d72fc Электроника\n",
      "373a6055fe Бытовая техника\n",
      "9b2ab046f3 Электроника\n",
      "9f39d307c3 Электроника\n",
      "44edeffc91 Продукты\n",
      "704474fa2d Продукты\n",
      "1de31be403 Бытовая техника\n",
      "b71f36a5e4 Продукты\n"
     ]
    }
   ],
   "source": [
    "i = 0\n",
    "\n",
    "for key, value in purchases.items():\n",
    "    print(key, value)\n",
    "    i += 1\n",
    "    if i > 9:\n",
    "        break"
   ]
  },
  {
   "cell_type": "markdown",
   "id": "b5e05be0",
   "metadata": {},
   "source": [
    "Все отлично."
   ]
  },
  {
   "cell_type": "markdown",
   "id": "96e6a26b",
   "metadata": {},
   "source": [
    "# Задание 2."
   ]
  },
  {
   "cell_type": "markdown",
   "id": "6aec34a7",
   "metadata": {},
   "source": [
    "Откроем исходный файл 'visit_log.csv':"
   ]
  },
  {
   "cell_type": "code",
   "execution_count": 92,
   "id": "60cdecfa",
   "metadata": {},
   "outputs": [],
   "source": [
    "with open('/Users/alexeylyubeznyy/Documents/Магистратура/МФТИ/Advanced Python/Задание 1. Работа с файлами и пакетами/Задание 2/visit_log.csv', 'r') as file:\n",
    "    with open('/Users/alexeylyubeznyy/Documents/Магистратура/МФТИ/Advanced Python/Задание 1. Работа с файлами и пакетами/Задание 2/funnel.csv', 'w') as f2write:\n",
    "        \n",
    "        # запишем в конечный файл строку с заголовком\n",
    "        f2write.write(str(['user_id', 'source', 'category']))\n",
    "        f2write.write('\\n')\n",
    "        \n",
    "        for line in file:\n",
    "            # каждую строку переведем в список, разбив на столбцы\n",
    "            line = line.strip().split(',')\n",
    "            \n",
    "            # ищем первый элемент каждой строки - это id пользователя - в ключах словаря покупок purchases\n",
    "            if line[0] in purchases.keys():\n",
    "                    \n",
    "                    # если пользователь совершал покупку, то добавляем категорию товара в конец строки,\n",
    "                    # где уже есть id пользователя и источник\n",
    "                    \n",
    "                    line.append(purchases[line[0]])\n",
    "                    \n",
    "                    #записываем строку в конечный файл\n",
    "                    f2write.write(str(line))\n",
    "                    f2write.write('\\n')"
   ]
  },
  {
   "cell_type": "markdown",
   "id": "fcb05e44",
   "metadata": {},
   "source": [
    "Проверим конечный файл:"
   ]
  },
  {
   "cell_type": "code",
   "execution_count": 93,
   "id": "316600eb",
   "metadata": {},
   "outputs": [
    {
     "name": "stdout",
     "output_type": "stream",
     "text": [
      "0 ['user_id', 'source', 'category']\n",
      "\n",
      "1 ['1840e0b9d4', 'other', 'Продукты']\n",
      "\n",
      "2 ['4e4f90fcfb', 'context', 'Электроника']\n",
      "\n",
      "3 ['afea8d72fc', 'other', 'Электроника']\n",
      "\n",
      "4 ['2824221f38', 'email', 'Продукты']\n",
      "\n",
      "5 ['373a6055fe', 'other', 'Бытовая техника']\n",
      "\n",
      "6 ['9b2ab046f3', 'other', 'Электроника']\n",
      "\n",
      "7 ['9f39d307c3', 'context', 'Электроника']\n",
      "\n",
      "8 ['44edeffc91', 'context', 'Продукты']\n",
      "\n",
      "9 ['704474fa2d', 'other', 'Продукты']\n",
      "\n",
      "10 ['1de31be403', 'other', 'Бытовая техника']\n",
      "\n"
     ]
    }
   ],
   "source": [
    "f = open('/Users/alexeylyubeznyy/Documents/Магистратура/МФТИ/Advanced Python/Задание 1. Работа с файлами и пакетами/Задание 2/funnel.csv', 'r')\n",
    "for i, line in enumerate(f):\n",
    "    print(i, line)\n",
    "    \n",
    "    if i > 9:\n",
    "        break"
   ]
  },
  {
   "cell_type": "markdown",
   "id": "4713a77b",
   "metadata": {},
   "source": [
    "Все работает."
   ]
  }
 ],
 "metadata": {
  "kernelspec": {
   "display_name": "Python 3 (ipykernel)",
   "language": "python",
   "name": "python3"
  },
  "language_info": {
   "codemirror_mode": {
    "name": "ipython",
    "version": 3
   },
   "file_extension": ".py",
   "mimetype": "text/x-python",
   "name": "python",
   "nbconvert_exporter": "python",
   "pygments_lexer": "ipython3",
   "version": "3.9.12"
  }
 },
 "nbformat": 4,
 "nbformat_minor": 5
}
