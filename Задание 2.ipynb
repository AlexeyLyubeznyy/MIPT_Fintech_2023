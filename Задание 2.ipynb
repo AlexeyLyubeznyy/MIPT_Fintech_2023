{
 "cells": [
  {
   "cell_type": "markdown",
   "id": "b79ad48c",
   "metadata": {},
   "source": [
    "# Задача № 1"
   ]
  },
  {
   "cell_type": "code",
   "execution_count": 1,
   "id": "565de892",
   "metadata": {},
   "outputs": [],
   "source": [
    "from datetime import datetime"
   ]
  },
  {
   "cell_type": "markdown",
   "id": "b3e50682",
   "metadata": {},
   "source": [
    "## The Moscow Times"
   ]
  },
  {
   "cell_type": "code",
   "execution_count": 6,
   "id": "7464b2d5",
   "metadata": {},
   "outputs": [],
   "source": [
    "date_string_MT = 'Wednesday, October 2, 2002'"
   ]
  },
  {
   "cell_type": "code",
   "execution_count": 7,
   "id": "11127f59",
   "metadata": {},
   "outputs": [
    {
     "name": "stdout",
     "output_type": "stream",
     "text": [
      "2002-10-02 00:00:00 <class 'datetime.datetime'>\n"
     ]
    }
   ],
   "source": [
    "date_MT = datetime.strptime(date_string_MT, '%A, %B %d, %Y')\n",
    "print(date_MT, type(date_MT))"
   ]
  },
  {
   "cell_type": "markdown",
   "id": "77e3debc",
   "metadata": {},
   "source": [
    "## The Guardian"
   ]
  },
  {
   "cell_type": "code",
   "execution_count": 10,
   "id": "7edd6b00",
   "metadata": {},
   "outputs": [],
   "source": [
    "date_string_G = 'Friday, 11.10.13'"
   ]
  },
  {
   "cell_type": "code",
   "execution_count": 11,
   "id": "320be363",
   "metadata": {},
   "outputs": [
    {
     "name": "stdout",
     "output_type": "stream",
     "text": [
      "2013-10-11 00:00:00 <class 'datetime.datetime'>\n"
     ]
    }
   ],
   "source": [
    "date_G = datetime.strptime(date_string_G, '%A, %d.%m.%y')\n",
    "print(date_G, type(date_G))"
   ]
  },
  {
   "cell_type": "markdown",
   "id": "7158bf3d",
   "metadata": {},
   "source": [
    "## Daily News"
   ]
  },
  {
   "cell_type": "code",
   "execution_count": 12,
   "id": "2c484d2c",
   "metadata": {},
   "outputs": [],
   "source": [
    "date_string_DN = 'Thursday, 18 August 1977'"
   ]
  },
  {
   "cell_type": "code",
   "execution_count": 13,
   "id": "949cef25",
   "metadata": {},
   "outputs": [
    {
     "name": "stdout",
     "output_type": "stream",
     "text": [
      "1977-08-18 00:00:00 <class 'datetime.datetime'>\n"
     ]
    }
   ],
   "source": [
    "date_DN = datetime.strptime(date_string_DN, '%A, %d %B %Y')\n",
    "print(date_DN, type(date_DN))"
   ]
  },
  {
   "cell_type": "markdown",
   "id": "012afaff",
   "metadata": {},
   "source": [
    "# Задача № 2"
   ]
  },
  {
   "cell_type": "code",
   "execution_count": 21,
   "id": "6ca54062",
   "metadata": {},
   "outputs": [],
   "source": [
    "from datetime import timedelta"
   ]
  },
  {
   "cell_type": "code",
   "execution_count": 120,
   "id": "76fa7187",
   "metadata": {},
   "outputs": [],
   "source": [
    "def date_range(start_date, end_date):\n",
    "    list_ = []\n",
    "    \n",
    "    try:\n",
    "        start_date_dt = datetime.strptime(start_date, '%Y-%m-%d')\n",
    "        end_date_dt = datetime.strptime(end_date, '%Y-%m-%d')\n",
    "        \n",
    "        current_dt = start_date_dt\n",
    "    \n",
    "        if start_date > end_date:\n",
    "            return print(list_)\n",
    "    \n",
    "        while current_dt <= end_date_dt:\n",
    "            list_.append(current_dt.strftime('%Y-%m-%d'))\n",
    "            current_dt += timedelta(days=1)\n",
    "        \n",
    "        return print(list_)\n",
    "    \n",
    "    except:\n",
    "        print(list_)"
   ]
  },
  {
   "cell_type": "markdown",
   "id": "a6cfbaa9",
   "metadata": {},
   "source": [
    "## Вариант 1 - Стандартный формат"
   ]
  },
  {
   "cell_type": "code",
   "execution_count": 121,
   "id": "345291e9",
   "metadata": {},
   "outputs": [
    {
     "name": "stdout",
     "output_type": "stream",
     "text": [
      "['2023-10-01', '2023-10-02', '2023-10-03', '2023-10-04', '2023-10-05', '2023-10-06', '2023-10-07', '2023-10-08', '2023-10-09']\n"
     ]
    }
   ],
   "source": [
    "date_range('2023-10-01', '2023-10-09')"
   ]
  },
  {
   "cell_type": "markdown",
   "id": "cf41f852",
   "metadata": {},
   "source": [
    "## Вариант 2 - На месте месяца в дате непонятное число"
   ]
  },
  {
   "cell_type": "code",
   "execution_count": 122,
   "id": "50794028",
   "metadata": {},
   "outputs": [
    {
     "name": "stdout",
     "output_type": "stream",
     "text": [
      "[]\n"
     ]
    }
   ],
   "source": [
    "date_range('2023-23-01', '2023-10-09')"
   ]
  },
  {
   "cell_type": "markdown",
   "id": "b2e4c271",
   "metadata": {},
   "source": [
    "## Вариант 3 - Начало позже конца"
   ]
  },
  {
   "cell_type": "code",
   "execution_count": 123,
   "id": "867e5967",
   "metadata": {},
   "outputs": [
    {
     "name": "stdout",
     "output_type": "stream",
     "text": [
      "[]\n"
     ]
    }
   ],
   "source": [
    "date_range('2023-10-10', '2023-10-09')"
   ]
  },
  {
   "cell_type": "markdown",
   "id": "b6f3d19e",
   "metadata": {},
   "source": [
    "## Вариант 4 - Несуществующие дни в феврале"
   ]
  },
  {
   "cell_type": "code",
   "execution_count": 124,
   "id": "c8436ddd",
   "metadata": {},
   "outputs": [
    {
     "name": "stdout",
     "output_type": "stream",
     "text": [
      "[]\n"
     ]
    }
   ],
   "source": [
    "date_range('2023-02-29', '2023-02-31')"
   ]
  }
 ],
 "metadata": {
  "kernelspec": {
   "display_name": "Python 3 (ipykernel)",
   "language": "python",
   "name": "python3"
  },
  "language_info": {
   "codemirror_mode": {
    "name": "ipython",
    "version": 3
   },
   "file_extension": ".py",
   "mimetype": "text/x-python",
   "name": "python",
   "nbconvert_exporter": "python",
   "pygments_lexer": "ipython3",
   "version": "3.9.12"
  }
 },
 "nbformat": 4,
 "nbformat_minor": 5
}
